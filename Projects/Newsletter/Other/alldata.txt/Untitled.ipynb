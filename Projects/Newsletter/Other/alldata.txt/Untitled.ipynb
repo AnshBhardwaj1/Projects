{
 "cells": [
  {
   "cell_type": "code",
   "execution_count": 1,
   "id": "476b4803",
   "metadata": {},
   "outputs": [],
   "source": [
    "import numpy as np\n",
    "import pandas as pd\n",
    "all_data=pd.read_csv('dataaa.csv')\n",
    "email=all_data['Email Address']\n",
    "new=email.to_list()\n",
    "newf=[]\n",
    "for i in new:\n",
    "    newf.append(i)\n",
    "len(newf)\n",
    "newdata=open('finaaaaaal_email.txt','a')\n",
    "for i in newf:\n",
    "    print (i)\n",
    "    newdata.writelines(i)\n",
    "newdata.close()"
   ]
  },
  {
   "cell_type": "code",
   "execution_count": 5,
   "id": "1abc4c11",
   "metadata": {},
   "outputs": [],
   "source": [
    "new=email.to_list()\n",
    "newf=[]"
   ]
  },
  {
   "cell_type": "code",
   "execution_count": 6,
   "id": "43920126",
   "metadata": {},
   "outputs": [
    {
     "data": {
      "text/plain": [
       "2740"
      ]
     },
     "execution_count": 6,
     "metadata": {},
     "output_type": "execute_result"
    }
   ],
   "source": [
    "for i in new:\n",
    "    newf.append(i)\n",
    "len(newf)"
   ]
  },
  {
   "cell_type": "code",
   "execution_count": 7,
   "id": "0b15b281",
   "metadata": {},
   "outputs": [
    {
     "name": "stdout",
     "output_type": "stream",
     "text": [
      "devpratapsingh_co22a3_64@dtu.ac.in \n",
      "tarpitgoyal_co22a7_65@dtu.ac.in \n",
      "manyajain_co22a5_24@dtu.ac.in \n",
      "abhaysingh_co22a2_09@dtu.ac.in \n",
      "kanishkgupta_co22a4_59@dtu.ac.in \n",
      "srijalkamra_co22a7_48@dtu.ac.in \n",
      "suryanshnagar_co22a7_54@dtu.ac.in \n",
      "pratyanshpathak_co22a6_15@dtu.ac.in \n",
      "pranjayyadav_co22a6_10@dtu.ac.in \n",
      "nityagupta_co22a5_61@dtu.ac.in \n",
      "shivamkapoor_co22a7_29@dtu.ac.in \n",
      "kartiksharma_co22a4_64@dtu.ac.in \n",
      "parthgoel_it22a9_72@dtu.ac.in \n",
      "ayushgrover_co22a3_36@dtu.ac.in \n",
      "piyushagarwal_co22a5_73@dtu.ac.in \n",
      "sarthaksachdeva_co22a7_09@dtu.ac.in \n",
      "bhashitmaheshwari_co22a3_46@dtu.ac.in \n",
      "aryanmittal_co22a3_16@dtu.ac.in \n",
      "khushboo_co22a4_71@dtu.ac.in \n",
      "rishabhsharma_co22a6_39@dtu.ac.in \n",
      "adityagoel_co22a2_22@dtu.ac.in \n",
      "kritikasharma_co22a5_02@dtu.ac.in \n",
      "raghavkhajuria_co22a6_26@dtu.ac.in \n",
      "anantaggarwal_co22a2_47@dtu.ac.in \n",
      "nan\n"
     ]
    },
    {
     "ename": "TypeError",
     "evalue": "'float' object is not iterable",
     "output_type": "error",
     "traceback": [
      "\u001b[0;31m---------------------------------------------------------------------------\u001b[0m",
      "\u001b[0;31mTypeError\u001b[0m                                 Traceback (most recent call last)",
      "Cell \u001b[0;32mIn[7], line 4\u001b[0m\n\u001b[1;32m      2\u001b[0m \u001b[38;5;28;01mfor\u001b[39;00m i \u001b[38;5;129;01min\u001b[39;00m newf:\n\u001b[1;32m      3\u001b[0m     \u001b[38;5;28mprint\u001b[39m (i)\n\u001b[0;32m----> 4\u001b[0m     \u001b[43mnewdata\u001b[49m\u001b[38;5;241;43m.\u001b[39;49m\u001b[43mwritelines\u001b[49m\u001b[43m(\u001b[49m\u001b[43mi\u001b[49m\u001b[43m)\u001b[49m\n\u001b[1;32m      5\u001b[0m newdata\u001b[38;5;241m.\u001b[39mclose()\n",
      "\u001b[0;31mTypeError\u001b[0m: 'float' object is not iterable"
     ]
    }
   ],
   "source": [
    "newdata=open('finaaaaaal_email.txt','a')\n",
    "for i in newf:\n",
    "    print (i)\n",
    "    newdata.writelines(i)\n",
    "newdata.close()"
   ]
  },
  {
   "cell_type": "code",
   "execution_count": null,
   "id": "fa51497d",
   "metadata": {},
   "outputs": [],
   "source": []
  },
  {
   "cell_type": "code",
   "execution_count": null,
   "id": "487cf2a7",
   "metadata": {},
   "outputs": [],
   "source": []
  }
 ],
 "metadata": {
  "kernelspec": {
   "display_name": "Python 3 (ipykernel)",
   "language": "python",
   "name": "python3"
  },
  "language_info": {
   "codemirror_mode": {
    "name": "ipython",
    "version": 3
   },
   "file_extension": ".py",
   "mimetype": "text/x-python",
   "name": "python",
   "nbconvert_exporter": "python",
   "pygments_lexer": "ipython3",
   "version": "3.10.6"
  }
 },
 "nbformat": 4,
 "nbformat_minor": 5
}
