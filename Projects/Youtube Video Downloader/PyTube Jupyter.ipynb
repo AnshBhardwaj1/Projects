{
 "cells": [
  {
   "cell_type": "code",
   "execution_count": 43,
   "id": "34396de2",
   "metadata": {},
   "outputs": [
    {
     "name": "stdout",
     "output_type": "stream",
     "text": [
      "Which quality do you want : 144\n",
      "Getting available qualities Bash in 100 Seconds in 144p\n"
     ]
    }
   ],
   "source": [
    "qual=0\n",
    "import pytube\n",
    "from click import clear\n",
    "vid=pytube.YouTube(\"https://www.youtube.com/watch?v=I4EWvMFj37g\")\n",
    "if qual==0:\n",
    "    qual=input(\"Which quality do you want : \")\n",
    "else:\n",
    "    pass\n",
    "if qual[-1]=='p':\n",
    "    pass\n",
    "else:\n",
    "    qual=qual+'p'\n",
    "print (f\"Getting available qualities {vid.title} in {qual}\")\n",
    "f_vid=vid.streams.filter(progressive=True)\n",
    "\n",
    "    \n"
   ]
  },
  {
   "cell_type": "code",
   "execution_count": 42,
   "id": "ca0f0a65",
   "metadata": {},
   "outputs": [
    {
     "name": "stdout",
     "output_type": "stream",
     "text": [
      "2\n"
     ]
    }
   ],
   "source": [
    "print (len(f_vid))"
   ]
  },
  {
   "cell_type": "code",
   "execution_count": null,
   "id": "926bd389",
   "metadata": {},
   "outputs": [],
   "source": [
    "print (f_vid.itag)"
   ]
  },
  {
   "cell_type": "code",
   "execution_count": null,
   "id": "025f7325",
   "metadata": {},
   "outputs": [],
   "source": [
    "f_vid_stream=f_vid.get_by_resolution(qual)\n",
    "if f_vid_stream==None:\n",
    "    print (f\"{qual} is not available\")\n",
    "    qual=0\n",
    "else:\n",
    "    download(\"Videos\")\n",
    "clear()\n",
    "print (f\"{vid.title} has been downloaded in {qual}\")"
   ]
  },
  {
   "cell_type": "code",
   "execution_count": null,
   "id": "8b6a81ac",
   "metadata": {},
   "outputs": [],
   "source": [
    "if __name__==\"__main__\":\n",
    "    fdata=open('data.txt','r')\n",
    "    while True:\n",
    "        link = fdata.readline()\n",
    "        if not link:\n",
    "            break\n",
    "        else:    \n",
    "            download(link)\n",
    "    fdata.close()"
   ]
  },
  {
   "cell_type": "code",
   "execution_count": null,
   "id": "157fb7c9",
   "metadata": {},
   "outputs": [],
   "source": [
    "qual=0\n",
    "def download (link):\n",
    "    import pytube\n",
    "    from click import clear\n",
    "    vid=pytube.YouTube(link)\n",
    "    f_vid=vid.streams.filter(file_extension='mp4',progressive=True)\n",
    "    global qual\n",
    "    if qual==0:\n",
    "        qual=input(\"Which quality do you want : \")\n",
    "    else:\n",
    "        pass\n",
    "    if qual[-1]=='p':\n",
    "        pass\n",
    "    else:\n",
    "        qual=qual+'p'\n",
    "    print (f\"Downloading {vid.title} in {qual}\")\n",
    "    f_vid_stream=f_vid.get_by_resolution(qual)\n",
    "    if f_vid_stream==None:\n",
    "        print (f\"{qual} is not available\")\n",
    "        qual=0\n",
    "    else:\n",
    "        download(\"Videos\")\n",
    "    clear()\n",
    "    print (f\"{vid.title} has been downloaded in {qual}\")\n",
    "    \n",
    "if __name__==\"__main__\":\n",
    "    fdata=open('data.txt','r')\n",
    "    while True:\n",
    "        link = fdata.readline()\n",
    "        if not link:\n",
    "            break\n",
    "        else:    \n",
    "            download(link)\n",
    "    fdata.close()"
   ]
  }
 ],
 "metadata": {
  "kernelspec": {
   "display_name": "Python 3 (ipykernel)",
   "language": "python",
   "name": "python3"
  },
  "language_info": {
   "codemirror_mode": {
    "name": "ipython",
    "version": 3
   },
   "file_extension": ".py",
   "mimetype": "text/x-python",
   "name": "python",
   "nbconvert_exporter": "python",
   "pygments_lexer": "ipython3",
   "version": "3.10.6"
  }
 },
 "nbformat": 4,
 "nbformat_minor": 5
}
